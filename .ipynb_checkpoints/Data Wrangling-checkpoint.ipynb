{
 "cells": [
  {
   "cell_type": "markdown",
   "metadata": {},
   "source": [
    "# Data Wrangling\n",
    "Using the Alpha Vantage API to pull raw data and technical indicators for the model."
   ]
  },
  {
   "cell_type": "markdown",
   "metadata": {},
   "source": [
    "### Import Packages"
   ]
  },
  {
   "cell_type": "code",
   "execution_count": 1,
   "metadata": {},
   "outputs": [],
   "source": [
    "import pandas as pd\n",
    "import requests"
   ]
  },
  {
   "cell_type": "code",
   "execution_count": 2,
   "metadata": {},
   "outputs": [],
   "source": [
    "api_key = 'ECI18FG0ET71Z3U0'"
   ]
  },
  {
   "cell_type": "markdown",
   "metadata": {},
   "source": [
    "### Define functions to pull stock data"
   ]
  },
  {
   "cell_type": "code",
   "execution_count": 3,
   "metadata": {},
   "outputs": [],
   "source": [
    "def get_stock_data(symbol, start_date='2010-01-01', end_date='2018-12-31'):\n",
    "    \n",
    "    \"\"\"\n",
    "    function to pull adjusted stock prices from the alphavantage API.\n",
    "    \n",
    "    symbol is a string representing a stock symbol, e.g. 'AAPL'\n",
    "    \n",
    "    start_date is the start date of the time series, defaults to '1/1/2010'\n",
    "    \n",
    "    end_date is the end date of the time series, defaults to '12/31/2018'\n",
    "    \n",
    "    start_date & end_date must be in string format\n",
    "    \"\"\"\n",
    "    \n",
    "    url = 'https://www.alphavantage.co/query?function=TIME_SERIES_DAILY_ADJUSTED&symbol=' + symbol + '&outputsize=full&apikey=' + api_key\n",
    "        \n",
    "    r = requests.get(url)\n",
    "    \n",
    "    df = r.json()\n",
    "    \n",
    "    df = pd.DataFrame(df['Time Series (Daily)']).T\n",
    "    \n",
    "    df = df[(df.index > start_date) & (df.index < end_date)]\n",
    " \n",
    "    return df"
   ]
  },
  {
   "cell_type": "markdown",
   "metadata": {},
   "source": [
    "### Create dataset"
   ]
  },
  {
   "cell_type": "code",
   "execution_count": 11,
   "metadata": {},
   "outputs": [],
   "source": [
    "msft_df = get_stock_data('MSFT')"
   ]
  },
  {
   "cell_type": "code",
   "execution_count": 12,
   "metadata": {},
   "outputs": [
    {
     "data": {
      "text/html": [
       "<div>\n",
       "<style scoped>\n",
       "    .dataframe tbody tr th:only-of-type {\n",
       "        vertical-align: middle;\n",
       "    }\n",
       "\n",
       "    .dataframe tbody tr th {\n",
       "        vertical-align: top;\n",
       "    }\n",
       "\n",
       "    .dataframe thead th {\n",
       "        text-align: right;\n",
       "    }\n",
       "</style>\n",
       "<table border=\"1\" class=\"dataframe\">\n",
       "  <thead>\n",
       "    <tr style=\"text-align: right;\">\n",
       "      <th></th>\n",
       "      <th>1. open</th>\n",
       "      <th>2. high</th>\n",
       "      <th>3. low</th>\n",
       "      <th>4. close</th>\n",
       "      <th>5. adjusted close</th>\n",
       "      <th>6. volume</th>\n",
       "      <th>7. dividend amount</th>\n",
       "      <th>8. split coefficient</th>\n",
       "    </tr>\n",
       "  </thead>\n",
       "  <tbody>\n",
       "    <tr>\n",
       "      <th>2018-12-28</th>\n",
       "      <td>102.0900</td>\n",
       "      <td>102.4100</td>\n",
       "      <td>99.5200</td>\n",
       "      <td>100.3900</td>\n",
       "      <td>99.9609</td>\n",
       "      <td>38169312</td>\n",
       "      <td>0.0000</td>\n",
       "      <td>1.0000</td>\n",
       "    </tr>\n",
       "    <tr>\n",
       "      <th>2018-12-27</th>\n",
       "      <td>99.3000</td>\n",
       "      <td>101.1900</td>\n",
       "      <td>96.4000</td>\n",
       "      <td>101.1800</td>\n",
       "      <td>100.7475</td>\n",
       "      <td>49498509</td>\n",
       "      <td>0.0000</td>\n",
       "      <td>1.0000</td>\n",
       "    </tr>\n",
       "    <tr>\n",
       "      <th>2018-12-26</th>\n",
       "      <td>95.1400</td>\n",
       "      <td>100.6900</td>\n",
       "      <td>93.9600</td>\n",
       "      <td>100.5600</td>\n",
       "      <td>100.1301</td>\n",
       "      <td>51634793</td>\n",
       "      <td>0.0000</td>\n",
       "      <td>1.0000</td>\n",
       "    </tr>\n",
       "    <tr>\n",
       "      <th>2018-12-24</th>\n",
       "      <td>97.6800</td>\n",
       "      <td>97.9700</td>\n",
       "      <td>93.9800</td>\n",
       "      <td>94.1300</td>\n",
       "      <td>93.7276</td>\n",
       "      <td>43935192</td>\n",
       "      <td>0.0000</td>\n",
       "      <td>1.0000</td>\n",
       "    </tr>\n",
       "    <tr>\n",
       "      <th>2018-12-21</th>\n",
       "      <td>101.6300</td>\n",
       "      <td>103.0000</td>\n",
       "      <td>97.4600</td>\n",
       "      <td>98.2300</td>\n",
       "      <td>97.8101</td>\n",
       "      <td>111242070</td>\n",
       "      <td>0.0000</td>\n",
       "      <td>1.0000</td>\n",
       "    </tr>\n",
       "  </tbody>\n",
       "</table>\n",
       "</div>"
      ],
      "text/plain": [
       "             1. open   2. high   3. low  4. close 5. adjusted close  \\\n",
       "2018-12-28  102.0900  102.4100  99.5200  100.3900           99.9609   \n",
       "2018-12-27   99.3000  101.1900  96.4000  101.1800          100.7475   \n",
       "2018-12-26   95.1400  100.6900  93.9600  100.5600          100.1301   \n",
       "2018-12-24   97.6800   97.9700  93.9800   94.1300           93.7276   \n",
       "2018-12-21  101.6300  103.0000  97.4600   98.2300           97.8101   \n",
       "\n",
       "            6. volume 7. dividend amount 8. split coefficient  \n",
       "2018-12-28   38169312             0.0000               1.0000  \n",
       "2018-12-27   49498509             0.0000               1.0000  \n",
       "2018-12-26   51634793             0.0000               1.0000  \n",
       "2018-12-24   43935192             0.0000               1.0000  \n",
       "2018-12-21  111242070             0.0000               1.0000  "
      ]
     },
     "execution_count": 12,
     "metadata": {},
     "output_type": "execute_result"
    }
   ],
   "source": [
    "msft_df.head()"
   ]
  },
  {
   "cell_type": "markdown",
   "metadata": {},
   "source": [
    "### Re-order dataframe\n",
    "flip order of data frames so oldest dates are first."
   ]
  },
  {
   "cell_type": "code",
   "execution_count": 25,
   "metadata": {},
   "outputs": [],
   "source": [
    "def reorder(df):\n",
    "    return df.sort_index(ascending=True, inplace=True)"
   ]
  },
  {
   "cell_type": "code",
   "execution_count": 26,
   "metadata": {},
   "outputs": [],
   "source": [
    "dataframes = [apple_df, google_df, amzn_df, msft_df, msft_ma7, msft_ma21, \n",
    "              msft_macd, msft_bbands]\n",
    "\n",
    "for df in dataframes:\n",
    "    reorder(df)"
   ]
  },
  {
   "cell_type": "markdown",
   "metadata": {},
   "source": [
    "### Load raw data to flat file"
   ]
  },
  {
   "cell_type": "code",
   "execution_count": 27,
   "metadata": {},
   "outputs": [],
   "source": [
    "msft_df.to_csv('/Users/jessemailhot/Documents/GitHub/springboard/Capstone 2/raw data/msft.csv')"
   ]
  }
 ],
 "metadata": {
  "kernelspec": {
   "display_name": "Python 3",
   "language": "python",
   "name": "python3"
  },
  "language_info": {
   "codemirror_mode": {
    "name": "ipython",
    "version": 3
   },
   "file_extension": ".py",
   "mimetype": "text/x-python",
   "name": "python",
   "nbconvert_exporter": "python",
   "pygments_lexer": "ipython3",
   "version": "3.6.8"
  },
  "toc": {
   "base_numbering": 1,
   "nav_menu": {},
   "number_sections": true,
   "sideBar": true,
   "skip_h1_title": true,
   "title_cell": "Table of Contents",
   "title_sidebar": "Contents",
   "toc_cell": false,
   "toc_position": {
    "height": "calc(100% - 180px)",
    "left": "10px",
    "top": "150px",
    "width": "165px"
   },
   "toc_section_display": true,
   "toc_window_display": true
  }
 },
 "nbformat": 4,
 "nbformat_minor": 2
}
