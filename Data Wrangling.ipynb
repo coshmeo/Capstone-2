{
 "cells": [
  {
   "cell_type": "markdown",
   "metadata": {},
   "source": [
    "# Data Wrangling\n",
    "Using the Alpha Vantage API to pull raw data and technical indicators for the model."
   ]
  },
  {
   "cell_type": "markdown",
   "metadata": {},
   "source": [
    "### Import Packages"
   ]
  },
  {
   "cell_type": "code",
   "execution_count": 1,
   "metadata": {},
   "outputs": [],
   "source": [
    "import pandas as pd\n",
    "import requests"
   ]
  },
  {
   "cell_type": "code",
   "execution_count": 2,
   "metadata": {},
   "outputs": [],
   "source": [
    "api_key = 'ECI18FG0ET71Z3U0'"
   ]
  },
  {
   "cell_type": "markdown",
   "metadata": {},
   "source": [
    "### Define functions to pull stock data"
   ]
  },
  {
   "cell_type": "code",
   "execution_count": 3,
   "metadata": {},
   "outputs": [],
   "source": [
    "def get_stock_data(symbol, start_date='2010-01-01', end_date='2018-12-31'):\n",
    "    \n",
    "    \"\"\"\n",
    "    function to pull adjusted stock prices from the alphavantage API.\n",
    "    \n",
    "    symbol is a string representing a stock symbol, e.g. 'AAPL'\n",
    "    \n",
    "    start_date is the start date of the time series, defaults to '1/1/2010'\n",
    "    \n",
    "    end_date is the end date of the time series, defaults to '12/31/2018'\n",
    "    \n",
    "    start_date & end_date must be in string format\n",
    "    \"\"\"\n",
    "    \n",
    "    url = 'https://www.alphavantage.co/query?function=TIME_SERIES_DAILY_ADJUSTED&symbol=' + symbol + '&outputsize=full&apikey=' + api_key\n",
    "        \n",
    "    r = requests.get(url)\n",
    "    \n",
    "    df = r.json()\n",
    "    \n",
    "    df = pd.DataFrame(df['Time Series (Daily)']).T\n",
    "    \n",
    "    df = df[(df.index > start_date) & (df.index < end_date)]\n",
    " \n",
    "    return df"
   ]
  },
  {
   "cell_type": "code",
   "execution_count": 4,
   "metadata": {},
   "outputs": [],
   "source": [
    "def get_ma(symbol, period, start_date='2010-01-01', end_date='2018-12-31'):\n",
    "    \n",
    "    \"\"\"\n",
    "    funciton to pull simple moving average data for closing prices of a stock using the alpha vantage API\n",
    "    \n",
    "    symbol is a string representing a stock symbol, e.g. 'AAPL'\n",
    "    \n",
    "    period is the number of days per moving average, i.e. 7-day moving average -> period = 7\n",
    "    \n",
    "    start_date is the start date of the time series, defaults to '1/1/2010'\n",
    "    \n",
    "    end_date is the end date of the time series, defaults to '12/31/2018'\n",
    "    \n",
    "    start_date & end_date must be in string format\n",
    "    \"\"\"\n",
    "    \n",
    "    url = 'https://www.alphavantage.co/query?function=SMA&symbol=' + symbol + '&interval=daily&time_period='+ str(period) + '&series_type=close&apikey=' + api_key\n",
    "    \n",
    "    r = requests.get(url)\n",
    "    \n",
    "    df = r.json()\n",
    "    \n",
    "    df = pd.DataFrame(df['Technical Analysis: SMA']).T\n",
    "    \n",
    "    df = df[(df.index > start_date) & (df.index < end_date)]\n",
    " \n",
    "    return df"
   ]
  },
  {
   "cell_type": "code",
   "execution_count": 5,
   "metadata": {},
   "outputs": [],
   "source": [
    "def get_macd(symbol, start_date='2010-01-01', end_date='2018-12-31'):\n",
    "    \n",
    "    \"\"\"\n",
    "    funciton to pull the moving average convergence/divergence data for closing prices of a stock using the alpha vantage API\n",
    "    \n",
    "    symbol is a string representing a stock symbol, e.g. 'AAPL'\n",
    "    \n",
    "    start_date is the start date of the time series, defaults to '1/1/2010'\n",
    "    \n",
    "    end_date is the end date of the time series, defaults to '12/31/2018'\n",
    "    \n",
    "    start_date & end_date must be in string format\n",
    "    \"\"\"\n",
    "    \n",
    "    url = 'https://www.alphavantage.co/query?function=MACD&symbol=' + symbol + '&interval=daily&series_type=close&apikey=' + api_key\n",
    "    \n",
    "    r = requests.get(url)\n",
    "    \n",
    "    df = r.json()\n",
    "    \n",
    "    df = pd.DataFrame(df['Technical Analysis: MACD']).T\n",
    "    \n",
    "    df = df[(df.index > start_date) & (df.index < end_date)]\n",
    " \n",
    "    return df"
   ]
  },
  {
   "cell_type": "code",
   "execution_count": 6,
   "metadata": {},
   "outputs": [],
   "source": [
    "def get_bbands(symbol, start_date='2010-01-01', end_date='2018-12-31'):\n",
    "    \"\"\"\n",
    "    funciton to pull bollinger bands data for closing prices of a stock with a 21 day period using the alpha vantage API\n",
    "    \n",
    "    symbol is a string representing a stock symbol, e.g. 'AAPL'\n",
    "    \n",
    "    start_date is the start date of the time series, defaults to '1/1/2010'\n",
    "    \n",
    "    end_date is the end date of the time series, defaults to '12/31/2018'\n",
    "    \n",
    "    start_date & end_date must be in string format\n",
    "    \"\"\"\n",
    "    \n",
    "    url = 'https://www.alphavantage.co/query?function=BBANDS&symbol=' + symbol + '&interval=daily&time_period=21&series_type=close&apikey=' + api_key\n",
    "    \n",
    "    r = requests.get(url)\n",
    "    \n",
    "    df = r.json()\n",
    "    \n",
    "    df = pd.DataFrame(df['Technical Analysis: BBANDS']).T\n",
    "    \n",
    "    df = df[(df.index > start_date) & (df.index < end_date)]\n",
    " \n",
    "    return df"
   ]
  },
  {
   "cell_type": "markdown",
   "metadata": {},
   "source": [
    "### Create datasets"
   ]
  },
  {
   "cell_type": "code",
   "execution_count": 7,
   "metadata": {},
   "outputs": [],
   "source": [
    "apple_df = get_stock_data('AAPL')"
   ]
  },
  {
   "cell_type": "code",
   "execution_count": 8,
   "metadata": {},
   "outputs": [
    {
     "data": {
      "text/html": [
       "<div>\n",
       "<style scoped>\n",
       "    .dataframe tbody tr th:only-of-type {\n",
       "        vertical-align: middle;\n",
       "    }\n",
       "\n",
       "    .dataframe tbody tr th {\n",
       "        vertical-align: top;\n",
       "    }\n",
       "\n",
       "    .dataframe thead th {\n",
       "        text-align: right;\n",
       "    }\n",
       "</style>\n",
       "<table border=\"1\" class=\"dataframe\">\n",
       "  <thead>\n",
       "    <tr style=\"text-align: right;\">\n",
       "      <th></th>\n",
       "      <th>1. open</th>\n",
       "      <th>2. high</th>\n",
       "      <th>3. low</th>\n",
       "      <th>4. close</th>\n",
       "      <th>5. adjusted close</th>\n",
       "      <th>6. volume</th>\n",
       "      <th>7. dividend amount</th>\n",
       "      <th>8. split coefficient</th>\n",
       "    </tr>\n",
       "  </thead>\n",
       "  <tbody>\n",
       "    <tr>\n",
       "      <th>2018-12-28</th>\n",
       "      <td>157.5000</td>\n",
       "      <td>158.5200</td>\n",
       "      <td>154.5500</td>\n",
       "      <td>156.2300</td>\n",
       "      <td>155.5636</td>\n",
       "      <td>42291424</td>\n",
       "      <td>0.0000</td>\n",
       "      <td>1.0000</td>\n",
       "    </tr>\n",
       "    <tr>\n",
       "      <th>2018-12-27</th>\n",
       "      <td>155.8400</td>\n",
       "      <td>156.7700</td>\n",
       "      <td>150.0700</td>\n",
       "      <td>156.1500</td>\n",
       "      <td>155.4839</td>\n",
       "      <td>53117065</td>\n",
       "      <td>0.0000</td>\n",
       "      <td>1.0000</td>\n",
       "    </tr>\n",
       "    <tr>\n",
       "      <th>2018-12-26</th>\n",
       "      <td>148.3000</td>\n",
       "      <td>157.2300</td>\n",
       "      <td>146.7200</td>\n",
       "      <td>157.1700</td>\n",
       "      <td>156.4996</td>\n",
       "      <td>58582544</td>\n",
       "      <td>0.0000</td>\n",
       "      <td>1.0000</td>\n",
       "    </tr>\n",
       "    <tr>\n",
       "      <th>2018-12-24</th>\n",
       "      <td>148.1500</td>\n",
       "      <td>151.5500</td>\n",
       "      <td>146.5900</td>\n",
       "      <td>146.8300</td>\n",
       "      <td>146.2037</td>\n",
       "      <td>37169232</td>\n",
       "      <td>0.0000</td>\n",
       "      <td>1.0000</td>\n",
       "    </tr>\n",
       "    <tr>\n",
       "      <th>2018-12-21</th>\n",
       "      <td>156.8600</td>\n",
       "      <td>158.1600</td>\n",
       "      <td>149.6300</td>\n",
       "      <td>150.7300</td>\n",
       "      <td>150.0871</td>\n",
       "      <td>95744384</td>\n",
       "      <td>0.0000</td>\n",
       "      <td>1.0000</td>\n",
       "    </tr>\n",
       "  </tbody>\n",
       "</table>\n",
       "</div>"
      ],
      "text/plain": [
       "             1. open   2. high    3. low  4. close 5. adjusted close  \\\n",
       "2018-12-28  157.5000  158.5200  154.5500  156.2300          155.5636   \n",
       "2018-12-27  155.8400  156.7700  150.0700  156.1500          155.4839   \n",
       "2018-12-26  148.3000  157.2300  146.7200  157.1700          156.4996   \n",
       "2018-12-24  148.1500  151.5500  146.5900  146.8300          146.2037   \n",
       "2018-12-21  156.8600  158.1600  149.6300  150.7300          150.0871   \n",
       "\n",
       "           6. volume 7. dividend amount 8. split coefficient  \n",
       "2018-12-28  42291424             0.0000               1.0000  \n",
       "2018-12-27  53117065             0.0000               1.0000  \n",
       "2018-12-26  58582544             0.0000               1.0000  \n",
       "2018-12-24  37169232             0.0000               1.0000  \n",
       "2018-12-21  95744384             0.0000               1.0000  "
      ]
     },
     "execution_count": 8,
     "metadata": {},
     "output_type": "execute_result"
    }
   ],
   "source": [
    "apple_df.head()"
   ]
  },
  {
   "cell_type": "code",
   "execution_count": 9,
   "metadata": {},
   "outputs": [],
   "source": [
    "google_df = get_stock_data('GOOGL')"
   ]
  },
  {
   "cell_type": "code",
   "execution_count": 10,
   "metadata": {},
   "outputs": [
    {
     "data": {
      "text/html": [
       "<div>\n",
       "<style scoped>\n",
       "    .dataframe tbody tr th:only-of-type {\n",
       "        vertical-align: middle;\n",
       "    }\n",
       "\n",
       "    .dataframe tbody tr th {\n",
       "        vertical-align: top;\n",
       "    }\n",
       "\n",
       "    .dataframe thead th {\n",
       "        text-align: right;\n",
       "    }\n",
       "</style>\n",
       "<table border=\"1\" class=\"dataframe\">\n",
       "  <thead>\n",
       "    <tr style=\"text-align: right;\">\n",
       "      <th></th>\n",
       "      <th>1. open</th>\n",
       "      <th>2. high</th>\n",
       "      <th>3. low</th>\n",
       "      <th>4. close</th>\n",
       "      <th>5. adjusted close</th>\n",
       "      <th>6. volume</th>\n",
       "      <th>7. dividend amount</th>\n",
       "      <th>8. split coefficient</th>\n",
       "    </tr>\n",
       "  </thead>\n",
       "  <tbody>\n",
       "    <tr>\n",
       "      <th>2018-12-28</th>\n",
       "      <td>1059.5000</td>\n",
       "      <td>1064.2300</td>\n",
       "      <td>1042.0000</td>\n",
       "      <td>1046.6800</td>\n",
       "      <td>1046.6800</td>\n",
       "      <td>1718352</td>\n",
       "      <td>0.0000</td>\n",
       "      <td>1.0000</td>\n",
       "    </tr>\n",
       "    <tr>\n",
       "      <th>2018-12-27</th>\n",
       "      <td>1026.2000</td>\n",
       "      <td>1053.3400</td>\n",
       "      <td>1007.0000</td>\n",
       "      <td>1052.9000</td>\n",
       "      <td>1052.9000</td>\n",
       "      <td>2299806</td>\n",
       "      <td>0.0000</td>\n",
       "      <td>1.0000</td>\n",
       "    </tr>\n",
       "    <tr>\n",
       "      <th>2018-12-26</th>\n",
       "      <td>997.9900</td>\n",
       "      <td>1048.4500</td>\n",
       "      <td>992.6450</td>\n",
       "      <td>1047.8500</td>\n",
       "      <td>1047.8500</td>\n",
       "      <td>2315862</td>\n",
       "      <td>0.0000</td>\n",
       "      <td>1.0000</td>\n",
       "    </tr>\n",
       "    <tr>\n",
       "      <th>2018-12-24</th>\n",
       "      <td>984.3200</td>\n",
       "      <td>1012.1200</td>\n",
       "      <td>977.6599</td>\n",
       "      <td>984.6700</td>\n",
       "      <td>984.6700</td>\n",
       "      <td>1817955</td>\n",
       "      <td>0.0000</td>\n",
       "      <td>1.0000</td>\n",
       "    </tr>\n",
       "    <tr>\n",
       "      <th>2018-12-21</th>\n",
       "      <td>1032.0400</td>\n",
       "      <td>1037.6700</td>\n",
       "      <td>981.1900</td>\n",
       "      <td>991.2500</td>\n",
       "      <td>991.2500</td>\n",
       "      <td>5232490</td>\n",
       "      <td>0.0000</td>\n",
       "      <td>1.0000</td>\n",
       "    </tr>\n",
       "  </tbody>\n",
       "</table>\n",
       "</div>"
      ],
      "text/plain": [
       "              1. open    2. high     3. low   4. close 5. adjusted close  \\\n",
       "2018-12-28  1059.5000  1064.2300  1042.0000  1046.6800         1046.6800   \n",
       "2018-12-27  1026.2000  1053.3400  1007.0000  1052.9000         1052.9000   \n",
       "2018-12-26   997.9900  1048.4500   992.6450  1047.8500         1047.8500   \n",
       "2018-12-24   984.3200  1012.1200   977.6599   984.6700          984.6700   \n",
       "2018-12-21  1032.0400  1037.6700   981.1900   991.2500          991.2500   \n",
       "\n",
       "           6. volume 7. dividend amount 8. split coefficient  \n",
       "2018-12-28   1718352             0.0000               1.0000  \n",
       "2018-12-27   2299806             0.0000               1.0000  \n",
       "2018-12-26   2315862             0.0000               1.0000  \n",
       "2018-12-24   1817955             0.0000               1.0000  \n",
       "2018-12-21   5232490             0.0000               1.0000  "
      ]
     },
     "execution_count": 10,
     "metadata": {},
     "output_type": "execute_result"
    }
   ],
   "source": [
    "google_df.head()"
   ]
  },
  {
   "cell_type": "code",
   "execution_count": 11,
   "metadata": {},
   "outputs": [],
   "source": [
    "msft_df = get_stock_data('MSFT')"
   ]
  },
  {
   "cell_type": "code",
   "execution_count": 12,
   "metadata": {},
   "outputs": [
    {
     "data": {
      "text/html": [
       "<div>\n",
       "<style scoped>\n",
       "    .dataframe tbody tr th:only-of-type {\n",
       "        vertical-align: middle;\n",
       "    }\n",
       "\n",
       "    .dataframe tbody tr th {\n",
       "        vertical-align: top;\n",
       "    }\n",
       "\n",
       "    .dataframe thead th {\n",
       "        text-align: right;\n",
       "    }\n",
       "</style>\n",
       "<table border=\"1\" class=\"dataframe\">\n",
       "  <thead>\n",
       "    <tr style=\"text-align: right;\">\n",
       "      <th></th>\n",
       "      <th>1. open</th>\n",
       "      <th>2. high</th>\n",
       "      <th>3. low</th>\n",
       "      <th>4. close</th>\n",
       "      <th>5. adjusted close</th>\n",
       "      <th>6. volume</th>\n",
       "      <th>7. dividend amount</th>\n",
       "      <th>8. split coefficient</th>\n",
       "    </tr>\n",
       "  </thead>\n",
       "  <tbody>\n",
       "    <tr>\n",
       "      <th>2018-12-28</th>\n",
       "      <td>102.0900</td>\n",
       "      <td>102.4100</td>\n",
       "      <td>99.5200</td>\n",
       "      <td>100.3900</td>\n",
       "      <td>99.9609</td>\n",
       "      <td>38169312</td>\n",
       "      <td>0.0000</td>\n",
       "      <td>1.0000</td>\n",
       "    </tr>\n",
       "    <tr>\n",
       "      <th>2018-12-27</th>\n",
       "      <td>99.3000</td>\n",
       "      <td>101.1900</td>\n",
       "      <td>96.4000</td>\n",
       "      <td>101.1800</td>\n",
       "      <td>100.7475</td>\n",
       "      <td>49498509</td>\n",
       "      <td>0.0000</td>\n",
       "      <td>1.0000</td>\n",
       "    </tr>\n",
       "    <tr>\n",
       "      <th>2018-12-26</th>\n",
       "      <td>95.1400</td>\n",
       "      <td>100.6900</td>\n",
       "      <td>93.9600</td>\n",
       "      <td>100.5600</td>\n",
       "      <td>100.1301</td>\n",
       "      <td>51634793</td>\n",
       "      <td>0.0000</td>\n",
       "      <td>1.0000</td>\n",
       "    </tr>\n",
       "    <tr>\n",
       "      <th>2018-12-24</th>\n",
       "      <td>97.6800</td>\n",
       "      <td>97.9700</td>\n",
       "      <td>93.9800</td>\n",
       "      <td>94.1300</td>\n",
       "      <td>93.7276</td>\n",
       "      <td>43935192</td>\n",
       "      <td>0.0000</td>\n",
       "      <td>1.0000</td>\n",
       "    </tr>\n",
       "    <tr>\n",
       "      <th>2018-12-21</th>\n",
       "      <td>101.6300</td>\n",
       "      <td>103.0000</td>\n",
       "      <td>97.4600</td>\n",
       "      <td>98.2300</td>\n",
       "      <td>97.8101</td>\n",
       "      <td>111242070</td>\n",
       "      <td>0.0000</td>\n",
       "      <td>1.0000</td>\n",
       "    </tr>\n",
       "  </tbody>\n",
       "</table>\n",
       "</div>"
      ],
      "text/plain": [
       "             1. open   2. high   3. low  4. close 5. adjusted close  \\\n",
       "2018-12-28  102.0900  102.4100  99.5200  100.3900           99.9609   \n",
       "2018-12-27   99.3000  101.1900  96.4000  101.1800          100.7475   \n",
       "2018-12-26   95.1400  100.6900  93.9600  100.5600          100.1301   \n",
       "2018-12-24   97.6800   97.9700  93.9800   94.1300           93.7276   \n",
       "2018-12-21  101.6300  103.0000  97.4600   98.2300           97.8101   \n",
       "\n",
       "            6. volume 7. dividend amount 8. split coefficient  \n",
       "2018-12-28   38169312             0.0000               1.0000  \n",
       "2018-12-27   49498509             0.0000               1.0000  \n",
       "2018-12-26   51634793             0.0000               1.0000  \n",
       "2018-12-24   43935192             0.0000               1.0000  \n",
       "2018-12-21  111242070             0.0000               1.0000  "
      ]
     },
     "execution_count": 12,
     "metadata": {},
     "output_type": "execute_result"
    }
   ],
   "source": [
    "msft_df.head()"
   ]
  },
  {
   "cell_type": "code",
   "execution_count": 13,
   "metadata": {},
   "outputs": [],
   "source": [
    "amzn_df = get_stock_data('AMZN')"
   ]
  },
  {
   "cell_type": "code",
   "execution_count": 14,
   "metadata": {},
   "outputs": [
    {
     "data": {
      "text/html": [
       "<div>\n",
       "<style scoped>\n",
       "    .dataframe tbody tr th:only-of-type {\n",
       "        vertical-align: middle;\n",
       "    }\n",
       "\n",
       "    .dataframe tbody tr th {\n",
       "        vertical-align: top;\n",
       "    }\n",
       "\n",
       "    .dataframe thead th {\n",
       "        text-align: right;\n",
       "    }\n",
       "</style>\n",
       "<table border=\"1\" class=\"dataframe\">\n",
       "  <thead>\n",
       "    <tr style=\"text-align: right;\">\n",
       "      <th></th>\n",
       "      <th>1. open</th>\n",
       "      <th>2. high</th>\n",
       "      <th>3. low</th>\n",
       "      <th>4. close</th>\n",
       "      <th>5. adjusted close</th>\n",
       "      <th>6. volume</th>\n",
       "      <th>7. dividend amount</th>\n",
       "      <th>8. split coefficient</th>\n",
       "    </tr>\n",
       "  </thead>\n",
       "  <tbody>\n",
       "    <tr>\n",
       "      <th>2010-01-08</th>\n",
       "      <td>130.5600</td>\n",
       "      <td>133.6800</td>\n",
       "      <td>129.0300</td>\n",
       "      <td>133.5200</td>\n",
       "      <td>133.5200</td>\n",
       "      <td>9830500</td>\n",
       "      <td>0.0000</td>\n",
       "      <td>1.0000</td>\n",
       "    </tr>\n",
       "    <tr>\n",
       "      <th>2010-01-07</th>\n",
       "      <td>132.0100</td>\n",
       "      <td>132.3200</td>\n",
       "      <td>128.8000</td>\n",
       "      <td>130.0000</td>\n",
       "      <td>130.0000</td>\n",
       "      <td>11030200</td>\n",
       "      <td>0.0000</td>\n",
       "      <td>1.0000</td>\n",
       "    </tr>\n",
       "    <tr>\n",
       "      <th>2010-01-06</th>\n",
       "      <td>134.6000</td>\n",
       "      <td>134.7300</td>\n",
       "      <td>131.6500</td>\n",
       "      <td>132.2500</td>\n",
       "      <td>132.2500</td>\n",
       "      <td>7178800</td>\n",
       "      <td>0.0000</td>\n",
       "      <td>1.0000</td>\n",
       "    </tr>\n",
       "    <tr>\n",
       "      <th>2010-01-05</th>\n",
       "      <td>133.4300</td>\n",
       "      <td>135.4790</td>\n",
       "      <td>131.8100</td>\n",
       "      <td>134.6900</td>\n",
       "      <td>134.6900</td>\n",
       "      <td>8851900</td>\n",
       "      <td>0.0000</td>\n",
       "      <td>1.0000</td>\n",
       "    </tr>\n",
       "    <tr>\n",
       "      <th>2010-01-04</th>\n",
       "      <td>136.2500</td>\n",
       "      <td>136.6100</td>\n",
       "      <td>133.1400</td>\n",
       "      <td>133.9000</td>\n",
       "      <td>133.9000</td>\n",
       "      <td>7599900</td>\n",
       "      <td>0.0000</td>\n",
       "      <td>1.0000</td>\n",
       "    </tr>\n",
       "  </tbody>\n",
       "</table>\n",
       "</div>"
      ],
      "text/plain": [
       "             1. open   2. high    3. low  4. close 5. adjusted close  \\\n",
       "2010-01-08  130.5600  133.6800  129.0300  133.5200          133.5200   \n",
       "2010-01-07  132.0100  132.3200  128.8000  130.0000          130.0000   \n",
       "2010-01-06  134.6000  134.7300  131.6500  132.2500          132.2500   \n",
       "2010-01-05  133.4300  135.4790  131.8100  134.6900          134.6900   \n",
       "2010-01-04  136.2500  136.6100  133.1400  133.9000          133.9000   \n",
       "\n",
       "           6. volume 7. dividend amount 8. split coefficient  \n",
       "2010-01-08   9830500             0.0000               1.0000  \n",
       "2010-01-07  11030200             0.0000               1.0000  \n",
       "2010-01-06   7178800             0.0000               1.0000  \n",
       "2010-01-05   8851900             0.0000               1.0000  \n",
       "2010-01-04   7599900             0.0000               1.0000  "
      ]
     },
     "execution_count": 14,
     "metadata": {},
     "output_type": "execute_result"
    }
   ],
   "source": [
    "amzn_df.tail()"
   ]
  },
  {
   "cell_type": "markdown",
   "metadata": {},
   "source": [
    "### Market indicators\n",
    "We will also include some composite index data to supplement the raw stock data. This will help improve the predictive power of the model. The data will be downloaded from Yahoo Finance in csv format and added to the raw data folder. "
   ]
  },
  {
   "cell_type": "code",
   "execution_count": 15,
   "metadata": {},
   "outputs": [],
   "source": [
    "nasdaq = pd.read_csv('raw data/^IXIC.csv', index_col = 0)\n",
    "nyse = pd.read_csv('raw data/^NYA.csv', index_col = 0)\n",
    "sp500 = pd.read_csv('raw data/^GSPC.csv', index_col = 0)\n",
    "tb13 = pd.read_csv('raw data/^IRX.csv', index_col = 0)\n",
    "tb13.dropna(inplace = True) #13 week treasury bills contains 2 NaN values"
   ]
  },
  {
   "cell_type": "markdown",
   "metadata": {},
   "source": [
    "### Technical indicators\n",
    "In addition to the composite index data, we will supplement our model with some common technical indicators: 7 & 21-day moving average, moving average convergence/divergence (MACD), and bollinger bands. These will only be constructed for our target stock, Microsoft."
   ]
  },
  {
   "cell_type": "code",
   "execution_count": 16,
   "metadata": {},
   "outputs": [],
   "source": [
    "msft_ma7 = get_ma('MSFT', period = 7)"
   ]
  },
  {
   "cell_type": "code",
   "execution_count": 17,
   "metadata": {},
   "outputs": [
    {
     "data": {
      "text/html": [
       "<div>\n",
       "<style scoped>\n",
       "    .dataframe tbody tr th:only-of-type {\n",
       "        vertical-align: middle;\n",
       "    }\n",
       "\n",
       "    .dataframe tbody tr th {\n",
       "        vertical-align: top;\n",
       "    }\n",
       "\n",
       "    .dataframe thead th {\n",
       "        text-align: right;\n",
       "    }\n",
       "</style>\n",
       "<table border=\"1\" class=\"dataframe\">\n",
       "  <thead>\n",
       "    <tr style=\"text-align: right;\">\n",
       "      <th></th>\n",
       "      <th>SMA</th>\n",
       "    </tr>\n",
       "  </thead>\n",
       "  <tbody>\n",
       "    <tr>\n",
       "      <th>2018-12-28</th>\n",
       "      <td>99.9557</td>\n",
       "    </tr>\n",
       "    <tr>\n",
       "      <th>2018-12-27</th>\n",
       "      <td>100.4671</td>\n",
       "    </tr>\n",
       "    <tr>\n",
       "      <th>2018-12-26</th>\n",
       "      <td>100.7114</td>\n",
       "    </tr>\n",
       "    <tr>\n",
       "      <th>2018-12-24</th>\n",
       "      <td>101.4929</td>\n",
       "    </tr>\n",
       "    <tr>\n",
       "      <th>2018-12-21</th>\n",
       "      <td>103.6814</td>\n",
       "    </tr>\n",
       "  </tbody>\n",
       "</table>\n",
       "</div>"
      ],
      "text/plain": [
       "                 SMA\n",
       "2018-12-28   99.9557\n",
       "2018-12-27  100.4671\n",
       "2018-12-26  100.7114\n",
       "2018-12-24  101.4929\n",
       "2018-12-21  103.6814"
      ]
     },
     "execution_count": 17,
     "metadata": {},
     "output_type": "execute_result"
    }
   ],
   "source": [
    "msft_ma7.head()"
   ]
  },
  {
   "cell_type": "code",
   "execution_count": 23,
   "metadata": {},
   "outputs": [],
   "source": [
    "msft_ma21 = get_ma('MSFT', period = 21)"
   ]
  },
  {
   "cell_type": "code",
   "execution_count": 33,
   "metadata": {},
   "outputs": [
    {
     "data": {
      "text/html": [
       "<div>\n",
       "<style scoped>\n",
       "    .dataframe tbody tr th:only-of-type {\n",
       "        vertical-align: middle;\n",
       "    }\n",
       "\n",
       "    .dataframe tbody tr th {\n",
       "        vertical-align: top;\n",
       "    }\n",
       "\n",
       "    .dataframe thead th {\n",
       "        text-align: right;\n",
       "    }\n",
       "</style>\n",
       "<table border=\"1\" class=\"dataframe\">\n",
       "  <thead>\n",
       "    <tr style=\"text-align: right;\">\n",
       "      <th></th>\n",
       "      <th>SMA</th>\n",
       "    </tr>\n",
       "  </thead>\n",
       "  <tbody>\n",
       "    <tr>\n",
       "      <th>2018-12-21</th>\n",
       "      <td>106.5543</td>\n",
       "    </tr>\n",
       "    <tr>\n",
       "      <th>2018-12-24</th>\n",
       "      <td>106.1267</td>\n",
       "    </tr>\n",
       "    <tr>\n",
       "      <th>2018-12-26</th>\n",
       "      <td>106.0071</td>\n",
       "    </tr>\n",
       "    <tr>\n",
       "      <th>2018-12-27</th>\n",
       "      <td>105.7552</td>\n",
       "    </tr>\n",
       "    <tr>\n",
       "      <th>2018-12-28</th>\n",
       "      <td>105.4338</td>\n",
       "    </tr>\n",
       "  </tbody>\n",
       "</table>\n",
       "</div>"
      ],
      "text/plain": [
       "                 SMA\n",
       "2018-12-21  106.5543\n",
       "2018-12-24  106.1267\n",
       "2018-12-26  106.0071\n",
       "2018-12-27  105.7552\n",
       "2018-12-28  105.4338"
      ]
     },
     "execution_count": 33,
     "metadata": {},
     "output_type": "execute_result"
    }
   ],
   "source": [
    "msft_ma21.tail()"
   ]
  },
  {
   "cell_type": "code",
   "execution_count": 22,
   "metadata": {},
   "outputs": [],
   "source": [
    "msft_macd = get_macd('MSFT')"
   ]
  },
  {
   "cell_type": "code",
   "execution_count": 34,
   "metadata": {},
   "outputs": [
    {
     "data": {
      "text/html": [
       "<div>\n",
       "<style scoped>\n",
       "    .dataframe tbody tr th:only-of-type {\n",
       "        vertical-align: middle;\n",
       "    }\n",
       "\n",
       "    .dataframe tbody tr th {\n",
       "        vertical-align: top;\n",
       "    }\n",
       "\n",
       "    .dataframe thead th {\n",
       "        text-align: right;\n",
       "    }\n",
       "</style>\n",
       "<table border=\"1\" class=\"dataframe\">\n",
       "  <thead>\n",
       "    <tr style=\"text-align: right;\">\n",
       "      <th></th>\n",
       "      <th>MACD</th>\n",
       "      <th>MACD_Hist</th>\n",
       "      <th>MACD_Signal</th>\n",
       "    </tr>\n",
       "  </thead>\n",
       "  <tbody>\n",
       "    <tr>\n",
       "      <th>2018-12-21</th>\n",
       "      <td>-1.5844</td>\n",
       "      <td>-0.9496</td>\n",
       "      <td>-0.6348</td>\n",
       "    </tr>\n",
       "    <tr>\n",
       "      <th>2018-12-24</th>\n",
       "      <td>-2.2868</td>\n",
       "      <td>-1.3216</td>\n",
       "      <td>-0.9652</td>\n",
       "    </tr>\n",
       "    <tr>\n",
       "      <th>2018-12-26</th>\n",
       "      <td>-2.2982</td>\n",
       "      <td>-1.0664</td>\n",
       "      <td>-1.2318</td>\n",
       "    </tr>\n",
       "    <tr>\n",
       "      <th>2018-12-27</th>\n",
       "      <td>-2.2314</td>\n",
       "      <td>-0.7997</td>\n",
       "      <td>-1.4317</td>\n",
       "    </tr>\n",
       "    <tr>\n",
       "      <th>2018-12-28</th>\n",
       "      <td>-2.2167</td>\n",
       "      <td>-0.6280</td>\n",
       "      <td>-1.5887</td>\n",
       "    </tr>\n",
       "  </tbody>\n",
       "</table>\n",
       "</div>"
      ],
      "text/plain": [
       "               MACD MACD_Hist MACD_Signal\n",
       "2018-12-21  -1.5844   -0.9496     -0.6348\n",
       "2018-12-24  -2.2868   -1.3216     -0.9652\n",
       "2018-12-26  -2.2982   -1.0664     -1.2318\n",
       "2018-12-27  -2.2314   -0.7997     -1.4317\n",
       "2018-12-28  -2.2167   -0.6280     -1.5887"
      ]
     },
     "execution_count": 34,
     "metadata": {},
     "output_type": "execute_result"
    }
   ],
   "source": [
    "msft_macd.tail()"
   ]
  },
  {
   "cell_type": "code",
   "execution_count": 21,
   "metadata": {},
   "outputs": [],
   "source": [
    "msft_bbands = get_bbands('MSFT')"
   ]
  },
  {
   "cell_type": "code",
   "execution_count": 35,
   "metadata": {},
   "outputs": [
    {
     "data": {
      "text/html": [
       "<div>\n",
       "<style scoped>\n",
       "    .dataframe tbody tr th:only-of-type {\n",
       "        vertical-align: middle;\n",
       "    }\n",
       "\n",
       "    .dataframe tbody tr th {\n",
       "        vertical-align: top;\n",
       "    }\n",
       "\n",
       "    .dataframe thead th {\n",
       "        text-align: right;\n",
       "    }\n",
       "</style>\n",
       "<table border=\"1\" class=\"dataframe\">\n",
       "  <thead>\n",
       "    <tr style=\"text-align: right;\">\n",
       "      <th></th>\n",
       "      <th>Real Lower Band</th>\n",
       "      <th>Real Middle Band</th>\n",
       "      <th>Real Upper Band</th>\n",
       "    </tr>\n",
       "  </thead>\n",
       "  <tbody>\n",
       "    <tr>\n",
       "      <th>2018-12-21</th>\n",
       "      <td>99.4498</td>\n",
       "      <td>106.5543</td>\n",
       "      <td>113.6587</td>\n",
       "    </tr>\n",
       "    <tr>\n",
       "      <th>2018-12-24</th>\n",
       "      <td>97.3583</td>\n",
       "      <td>106.1267</td>\n",
       "      <td>114.8950</td>\n",
       "    </tr>\n",
       "    <tr>\n",
       "      <th>2018-12-26</th>\n",
       "      <td>97.0099</td>\n",
       "      <td>106.0071</td>\n",
       "      <td>115.0044</td>\n",
       "    </tr>\n",
       "    <tr>\n",
       "      <th>2018-12-27</th>\n",
       "      <td>96.5306</td>\n",
       "      <td>105.7552</td>\n",
       "      <td>114.9799</td>\n",
       "    </tr>\n",
       "    <tr>\n",
       "      <th>2018-12-28</th>\n",
       "      <td>95.9576</td>\n",
       "      <td>105.4338</td>\n",
       "      <td>114.9100</td>\n",
       "    </tr>\n",
       "  </tbody>\n",
       "</table>\n",
       "</div>"
      ],
      "text/plain": [
       "           Real Lower Band Real Middle Band Real Upper Band\n",
       "2018-12-21         99.4498         106.5543        113.6587\n",
       "2018-12-24         97.3583         106.1267        114.8950\n",
       "2018-12-26         97.0099         106.0071        115.0044\n",
       "2018-12-27         96.5306         105.7552        114.9799\n",
       "2018-12-28         95.9576         105.4338        114.9100"
      ]
     },
     "execution_count": 35,
     "metadata": {},
     "output_type": "execute_result"
    }
   ],
   "source": [
    "msft_bbands.tail()"
   ]
  },
  {
   "cell_type": "markdown",
   "metadata": {},
   "source": [
    "### Re-order dataframes\n",
    "flip order of data frames so oldest dates are first."
   ]
  },
  {
   "cell_type": "code",
   "execution_count": 25,
   "metadata": {},
   "outputs": [],
   "source": [
    "def reorder(df):\n",
    "    return df.sort_index(ascending=True, inplace=True)"
   ]
  },
  {
   "cell_type": "code",
   "execution_count": 26,
   "metadata": {},
   "outputs": [],
   "source": [
    "dataframes = [apple_df, google_df, amzn_df, msft_df, msft_ma7, msft_ma21, \n",
    "              msft_macd, msft_bbands]\n",
    "\n",
    "for df in dataframes:\n",
    "    reorder(df)"
   ]
  },
  {
   "cell_type": "markdown",
   "metadata": {},
   "source": [
    "### Load raw data to flat files\n",
    "Now that we've got our raw data, let's dump them to CSV files for further analysis."
   ]
  },
  {
   "cell_type": "code",
   "execution_count": 27,
   "metadata": {},
   "outputs": [],
   "source": [
    "apple_df.to_csv('/Users/jessemailhot/Documents/GitHub/springboard/Capstone 2/raw data/apple.csv')\n",
    "google_df.to_csv('/Users/jessemailhot/Documents/GitHub/springboard/Capstone 2/raw data/google.csv')\n",
    "msft_df.to_csv('/Users/jessemailhot/Documents/GitHub/springboard/Capstone 2/raw data/msft.csv')\n",
    "amzn_df.to_csv('/Users/jessemailhot/Documents/GitHub/springboard/Capstone 2/raw data/amzn.csv')\n",
    "msft_ma7.to_csv('/Users/jessemailhot/Documents/GitHub/springboard/Capstone 2/raw data/msft_ma7.csv')\n",
    "msft_ma21.to_csv('/Users/jessemailhot/Documents/GitHub/springboard/Capstone 2/raw data/msft_ma21.csv')\n",
    "msft_macd.to_csv('/Users/jessemailhot/Documents/GitHub/springboard/Capstone 2/raw data/msft_macd.csv')\n",
    "msft_bbands.to_csv('/Users/jessemailhot/Documents/GitHub/springboard/Capstone 2/raw data/msft_bbands.csv')"
   ]
  },
  {
   "cell_type": "markdown",
   "metadata": {},
   "source": [
    "### Normalize data"
   ]
  },
  {
   "cell_type": "code",
   "execution_count": 44,
   "metadata": {},
   "outputs": [],
   "source": [
    "from sklearn.preprocessing import StandardScaler"
   ]
  },
  {
   "cell_type": "code",
   "execution_count": 37,
   "metadata": {},
   "outputs": [],
   "source": [
    "scaler = StandardScaler()"
   ]
  },
  {
   "cell_type": "code",
   "execution_count": 49,
   "metadata": {},
   "outputs": [
    {
     "name": "stderr",
     "output_type": "stream",
     "text": [
      "/anaconda3/lib/python3.6/site-packages/sklearn/preprocessing/data.py:625: DataConversionWarning: Data with input dtype object were all converted to float64 by StandardScaler.\n",
      "  return self.partial_fit(X, y)\n",
      "/anaconda3/lib/python3.6/site-packages/sklearn/base.py:462: DataConversionWarning: Data with input dtype object were all converted to float64 by StandardScaler.\n",
      "  return self.fit(X, **fit_params).transform(X)\n",
      "/anaconda3/lib/python3.6/site-packages/sklearn/preprocessing/data.py:625: DataConversionWarning: Data with input dtype object were all converted to float64 by StandardScaler.\n",
      "  return self.partial_fit(X, y)\n",
      "/anaconda3/lib/python3.6/site-packages/sklearn/base.py:462: DataConversionWarning: Data with input dtype object were all converted to float64 by StandardScaler.\n",
      "  return self.fit(X, **fit_params).transform(X)\n",
      "/anaconda3/lib/python3.6/site-packages/sklearn/preprocessing/data.py:625: DataConversionWarning: Data with input dtype object were all converted to float64 by StandardScaler.\n",
      "  return self.partial_fit(X, y)\n",
      "/anaconda3/lib/python3.6/site-packages/sklearn/base.py:462: DataConversionWarning: Data with input dtype object were all converted to float64 by StandardScaler.\n",
      "  return self.fit(X, **fit_params).transform(X)\n",
      "/anaconda3/lib/python3.6/site-packages/sklearn/preprocessing/data.py:625: DataConversionWarning: Data with input dtype object were all converted to float64 by StandardScaler.\n",
      "  return self.partial_fit(X, y)\n",
      "/anaconda3/lib/python3.6/site-packages/sklearn/base.py:462: DataConversionWarning: Data with input dtype object were all converted to float64 by StandardScaler.\n",
      "  return self.fit(X, **fit_params).transform(X)\n",
      "/anaconda3/lib/python3.6/site-packages/sklearn/preprocessing/data.py:625: DataConversionWarning: Data with input dtype int64, float64 were all converted to float64 by StandardScaler.\n",
      "  return self.partial_fit(X, y)\n",
      "/anaconda3/lib/python3.6/site-packages/sklearn/base.py:462: DataConversionWarning: Data with input dtype int64, float64 were all converted to float64 by StandardScaler.\n",
      "  return self.fit(X, **fit_params).transform(X)\n",
      "/anaconda3/lib/python3.6/site-packages/sklearn/preprocessing/data.py:625: DataConversionWarning: Data with input dtype int64, float64 were all converted to float64 by StandardScaler.\n",
      "  return self.partial_fit(X, y)\n",
      "/anaconda3/lib/python3.6/site-packages/sklearn/base.py:462: DataConversionWarning: Data with input dtype int64, float64 were all converted to float64 by StandardScaler.\n",
      "  return self.fit(X, **fit_params).transform(X)\n",
      "/anaconda3/lib/python3.6/site-packages/sklearn/preprocessing/data.py:625: DataConversionWarning: Data with input dtype int64, float64 were all converted to float64 by StandardScaler.\n",
      "  return self.partial_fit(X, y)\n",
      "/anaconda3/lib/python3.6/site-packages/sklearn/base.py:462: DataConversionWarning: Data with input dtype int64, float64 were all converted to float64 by StandardScaler.\n",
      "  return self.fit(X, **fit_params).transform(X)\n"
     ]
    }
   ],
   "source": [
    "apple_df_norm = scaler.fit_transform(apple_df)\n",
    "\n",
    "google_df_norm = scaler.fit_transform(google_df)\n",
    "\n",
    "msft_df_norm = scaler.fit_transform(msft_df)\n",
    "\n",
    "amzn_df_norm = scaler.fit_transform(amzn_df)\n",
    "\n",
    "nasdaq_norm = scaler.fit_transform(nasdaq)\n",
    "\n",
    "nyse_norm = scaler.fit_transform(nyse)\n",
    "\n",
    "sp500_norm = scaler.fit_transform(sp500)\n",
    "\n",
    "tb13_norm = scaler.fit_transform(tb13)\n",
    "\n",
    "#normalizer returns numpy arrays, so the data will need to be changed to a data frame\n",
    "#before exporting\n",
    "\n",
    "apple_df_norm = pd.DataFrame(apple_df_norm, index = apple_df.index, columns = apple_df.columns)\n",
    "\n",
    "google_df_norm = pd.DataFrame(google_df_norm, index = google_df.index, columns = google_df.columns)\n",
    "\n",
    "msft_df_norm = pd.DataFrame(msft_df_norm, index = msft_df.index, columns = msft_df.columns)\n",
    "\n",
    "amzn_df_norm = pd.DataFrame(amzn_df_norm, index = amzn_df.index, columns = amzn_df.columns)\n",
    "\n",
    "nasdaq_norm = pd.DataFrame(nasdaq_norm, index = nasdaq.index, columns = nasdaq.columns)\n",
    "\n",
    "nyse_norm = pd.DataFrame(nyse_norm, index = nyse.index, columns = nyse.columns)\n",
    "\n",
    "sp500_norm = pd.DataFrame(sp500_norm, index = sp500.index, columns = sp500.columns)\n",
    "\n",
    "tb13_norm = pd.DataFrame(tb13_norm, index = tb13.index, columns = tb13.columns)"
   ]
  },
  {
   "cell_type": "markdown",
   "metadata": {},
   "source": [
    "### Load scaled data to flat files"
   ]
  },
  {
   "cell_type": "code",
   "execution_count": 52,
   "metadata": {},
   "outputs": [],
   "source": [
    "apple_df_norm.to_csv('/Users/jessemailhot/Documents/GitHub/springboard/Capstone 2/normalized data/apple.csv')\n",
    "google_df_norm.to_csv('/Users/jessemailhot/Documents/GitHub/springboard/Capstone 2/normalized data/google.csv')\n",
    "msft_df_norm.to_csv('/Users/jessemailhot/Documents/GitHub/springboard/Capstone 2/normalized data/msft.csv')\n",
    "amzn_df_norm.to_csv('/Users/jessemailhot/Documents/GitHub/springboard/Capstone 2/normalized data/amzn.csv')\n",
    "nasdaq_norm.to_csv('/Users/jessemailhot/Documents/GitHub/springboard/Capstone 2/normalized data/nasdaq.csv')\n",
    "nyse_norm.to_csv('/Users/jessemailhot/Documents/GitHub/springboard/Capstone 2/normalized data/nyse.csv')\n",
    "sp500_norm.to_csv('/Users/jessemailhot/Documents/GitHub/springboard/Capstone 2/normalized data/sp500.csv')\n",
    "tb13_norm.to_csv('/Users/jessemailhot/Documents/GitHub/springboard/Capstone 2/normalized data/tb13.csv')"
   ]
  }
 ],
 "metadata": {
  "kernelspec": {
   "display_name": "Python 3",
   "language": "python",
   "name": "python3"
  },
  "language_info": {
   "codemirror_mode": {
    "name": "ipython",
    "version": 3
   },
   "file_extension": ".py",
   "mimetype": "text/x-python",
   "name": "python",
   "nbconvert_exporter": "python",
   "pygments_lexer": "ipython3",
   "version": "3.6.8"
  },
  "toc": {
   "base_numbering": 1,
   "nav_menu": {},
   "number_sections": true,
   "sideBar": true,
   "skip_h1_title": true,
   "title_cell": "Table of Contents",
   "title_sidebar": "Contents",
   "toc_cell": false,
   "toc_position": {
    "height": "calc(100% - 180px)",
    "left": "10px",
    "top": "150px",
    "width": "165px"
   },
   "toc_section_display": true,
   "toc_window_display": true
  }
 },
 "nbformat": 4,
 "nbformat_minor": 2
}
