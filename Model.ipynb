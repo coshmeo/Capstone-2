{
 "cells": [
  {
   "cell_type": "markdown",
   "metadata": {},
   "source": [
    "# Model\n",
    "Create neural network using Keras & TensorFlow"
   ]
  },
  {
   "cell_type": "markdown",
   "metadata": {},
   "source": [
    "## Import Packages"
   ]
  },
  {
   "cell_type": "code",
   "execution_count": null,
   "metadata": {},
   "outputs": [],
   "source": [
    "import pandas as pd\n",
    "import numpy as np\n",
    "from sklearn.metrics import mean_squared_error\n",
    "from keras.models import Sequential\n",
    "from keras.layers import Dense\n",
    "from keras.layers import LSTM\n",
    "from keras import backend as K"
   ]
  },
  {
   "cell_type": "markdown",
   "metadata": {},
   "source": [
    "## Define L1 Loss function"
   ]
  },
  {
   "cell_type": "code",
   "execution_count": null,
   "metadata": {},
   "outputs": [],
   "source": [
    "def smooth_L1_loss(y_true, y_pred):\n",
    "    THRESHOLD = K.variable(1.0)\n",
    "    mae = K.abs(y_true - y_pred)\n",
    "    flag = K.greater(mae, THRESHOLD)\n",
    "    loss = K.mean(K.switch(flag, (mae - 0.5), K.pow(mae, 2)), axis=-1)\n",
    "    return loss"
   ]
  },
  {
   "cell_type": "markdown",
   "metadata": {},
   "source": [
    "## Data Preparation"
   ]
  },
  {
   "cell_type": "code",
   "execution_count": null,
   "metadata": {},
   "outputs": [],
   "source": [
    "X_train = pd.read_csv('processed data/predictors_train.csv', index_col = 0)\n",
    "y_train = pd.read_csv('processed data/target_train.csv', names = ['price'])\n",
    "\n",
    "X_test = pd.read_csv('processed data/predictors_test.csv', index_col = 0)\n",
    "y_test = pd.read_csv('processed data/target_test.csv', names = ['price'])"
   ]
  },
  {
   "cell_type": "code",
   "execution_count": null,
   "metadata": {},
   "outputs": [],
   "source": [
    "fft_cols = ['fft 3', 'fft 6', 'fft 9']  # list of fourier transform column names\n",
    "\n",
    "#re-create entire microsoft adjusted closing price DataFrame\n",
    "y = pd.read_csv('raw data/msft.csv', index_col=0)\n",
    "\n",
    "y['price'] = y['5. adjusted close']\n",
    "\n",
    "#re-create fourier transforms as np.complex128 (instead of converting existing columns)\n",
    "close_fft = np.fft.fft(np.asarray(y['price'].tolist()))\n",
    "fft_df = pd.DataFrame({'fft':close_fft})\n",
    "fft_list = np.asarray(fft_df['fft'].tolist())\n",
    "for num_ in [3, 6, 9]:\n",
    "    fft_list_m10= np.copy(fft_list); fft_list_m10[num_:-num_]=0\n",
    "    fft_df['fft {}'.format(num_)] = np.fft.ifft(fft_list_m10)\n",
    "fft_df.drop(['fft'], axis = 1, inplace = True)\n",
    "fft_df = fft_df.set_index(y.index)\n",
    "\n",
    "for col in fft_cols:\n",
    "    X_train[col] = fft_df[col].iloc[0:-501]\n",
    "    X_test[col] = fft_df[col].iloc[-501:]"
   ]
  },
  {
   "cell_type": "code",
   "execution_count": null,
   "metadata": {},
   "outputs": [],
   "source": [
    "#convert testing/training sets to numpy arrays\n",
    "X_train = np.array(X_train.values)\n",
    "y_train = np.array(y_train.values)\n",
    "\n",
    "X_test = np.array(X_test.values)\n",
    "y_test = np.array(y_test.values)"
   ]
  },
  {
   "cell_type": "code",
   "execution_count": null,
   "metadata": {},
   "outputs": [],
   "source": [
    "#reshape data for input into the LSTM model\n",
    "X_train = X_train.reshape(X_train.shape[0], 1, X_train.shape[1])\n",
    "X_test = X_test.reshape(X_test.shape[0], 1, X_test.shape[1])"
   ]
  },
  {
   "cell_type": "markdown",
   "metadata": {},
   "source": [
    "## Build, Train, and Test Model"
   ]
  },
  {
   "cell_type": "code",
   "execution_count": null,
   "metadata": {},
   "outputs": [],
   "source": [
    "sequence_length = 1  # number of days before predicting\n",
    "n_features = X_train.shape[2]  # number of features in the data set\n",
    "time_step = 1  # number of samples"
   ]
  },
  {
   "cell_type": "code",
   "execution_count": null,
   "metadata": {},
   "outputs": [],
   "source": [
    "model = Sequential()\n",
    "#2 layer stateful LSTM with 125 nodes and Xavier (glorot_uniform) activation and L1 loss function\n",
    "model.add(LSTM(125, batch_input_shape=(sequence_length, time_step, n_features),\n",
    "                       kernel_initializer='glorot_uniform', stateful=True, return_sequences=True))\n",
    "model.add(LSTM(75, stateful=True))\n",
    "#add dropout layer here\n",
    "#add dense layer here\n",
    "#add dropout layer here\n",
    "model.add(Dense(1, input_shape=(75,)))  # single node dense output layer with prediction\n",
    "model.compile(loss=smooth_L1_loss, optimizer='adam')\n",
    "\n",
    "model.summary()  # show model summary"
   ]
  },
  {
   "cell_type": "code",
   "execution_count": 9,
   "metadata": {
    "scrolled": true
   },
   "outputs": [
    {
     "name": "stdout",
     "output_type": "stream",
     "text": [
      "WARNING:tensorflow:From /anaconda3/lib/python3.6/site-packages/tensorflow/python/ops/math_ops.py:3066: to_int32 (from tensorflow.python.ops.math_ops) is deprecated and will be removed in a future version.\n",
      "Instructions for updating:\n",
      "Use tf.cast instead.\n"
     ]
    },
    {
     "name": "stderr",
     "output_type": "stream",
     "text": [
      "/anaconda3/lib/python3.6/site-packages/numpy/core/numeric.py:538: ComplexWarning: Casting complex values to real discards the imaginary part\n",
      "  return array(a, dtype, copy=False, order=order)\n"
     ]
    }
   ],
   "source": [
    "#fit model to training data\n",
    "n_epochs = 200\n",
    "for i in range(n_epochs):\n",
    "    model.fit(X_train, y_train, epochs=1, batch_size=1, verbose=0, shuffle=False)"
   ]
  },
  {
   "cell_type": "code",
   "execution_count": 10,
   "metadata": {},
   "outputs": [],
   "source": [
    "prd = model.predict(X_test, batch_size=1)"
   ]
  },
  {
   "cell_type": "code",
   "execution_count": 11,
   "metadata": {},
   "outputs": [
    {
     "data": {
      "text/plain": [
       "1.766338391371839"
      ]
     },
     "execution_count": 11,
     "metadata": {},
     "output_type": "execute_result"
    }
   ],
   "source": [
    "mean_squared_error(y_test, prd)"
   ]
  },
  {
   "cell_type": "code",
   "execution_count": 38,
   "metadata": {},
   "outputs": [
    {
     "data": {
      "image/png": "[encoded data removed]",
      "text/plain": [
       "<Figure size 432x288 with 1 Axes>"
      ]
     },
     "metadata": {
      "needs_background": "light"
     },
     "output_type": "display_data"
    }
   ],
   "source": [
    "import matplotlib.pyplot as plt\n",
    "plt.plot(y_test)\n",
    "plt.plot(prd)\n",
    "plt.show()"
   ]
  },
  {
   "cell_type": "code",
   "execution_count": 34,
   "metadata": {},
   "outputs": [
    {
     "data": {
      "text/plain": [
       "59.9183"
      ]
     },
     "execution_count": 34,
     "metadata": {},
     "output_type": "execute_result"
    }
   ],
   "source": [
    "real[0]"
   ]
  }
 ],
 "metadata": {
  "kernelspec": {
   "display_name": "Python 3",
   "language": "python",
   "name": "python3"
  },
  "toc": {
   "base_numbering": 1,
   "nav_menu": {},
   "number_sections": true,
   "sideBar": true,
   "skip_h1_title": true,
   "title_cell": "Table of Contents",
   "title_sidebar": "Contents",
   "toc_cell": false,
   "toc_position": {},
   "toc_section_display": true,
   "toc_window_display": false
  }
 },
 "nbformat": 4,
 "nbformat_minor": 2
}
